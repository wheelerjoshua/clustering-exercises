{
 "cells": [
  {
   "cell_type": "markdown",
   "id": "035b9fbf",
   "metadata": {},
   "source": [
    "# Exercises\n",
    "\n",
    "Sourcing the Zillow database as the data source, create a jupyter notebook named explore_zillow and do the following:\n",
    "\n",
    "Ask at least 5 questions about the data, keeping in mind that your target variable is logerror. e.g. Is logerror significantly different for properties in LA County vs Orange County vs Ventura County?\n",
    "\n",
    "Answer those questions through a mix of statistical tests and visualizations.\n",
    "\n",
    "Bonus:\n",
    "\n",
    "Compute the mean(logerror) by zipcode and the overall mean(logerror). Write a loop that will run a t-test between the overall mean and the mean for each zip code. We want to identify the zip codes where the error is significantly higher or lower than the expected error.\n",
    "\n",
    "\n"
   ]
  },
  {
   "cell_type": "code",
   "execution_count": 1,
   "id": "7e63bef6",
   "metadata": {},
   "outputs": [],
   "source": [
    "import pandas as pd\n",
    "import numpy as np\n",
    "from scipy import stats\n",
    "from sklearn.model_selection import train_test_split\n",
    "\n",
    "import matplotlib.pyplot as plt\n",
    "from matplotlib import cm\n",
    "import seaborn as sns\n",
    "from sklearn.model_selection import learning_curve\n",
    "\n",
    "import wrangle\n",
    "\n",
    "import warnings\n",
    "warnings.filterwarnings(\"ignore\")"
   ]
  },
  {
   "cell_type": "code",
   "execution_count": 21,
   "id": "6d8c7437",
   "metadata": {},
   "outputs": [],
   "source": [
    "df = wrangle.wrangle_zillow()"
   ]
  },
  {
   "cell_type": "code",
   "execution_count": 29,
   "id": "6d4bfd27",
   "metadata": {},
   "outputs": [],
   "source": [
    "df = wrangle.remove_outliers(df, 1.5, ['calculatedfinishedsquarefeet','lotsizesquarefeet','yearbuilt'])"
   ]
  },
  {
   "cell_type": "markdown",
   "id": "b062c478",
   "metadata": {},
   "source": [
    "## Ask Questions\n",
    "Target: Logerror\n",
    "- Is logerror significantly different for properties in LA County vs Orange County vs Ventura County?\n",
    "- Is logerror significantly different for older properties vs newer properties?\n",
    "- Is logerror significantly different for properties with more than the mean bedrooms vs under the mean bedrooms?\n",
    "- Is logerror significantly different for properties \n",
    "- Is logerror significantly different for properties "
   ]
  },
  {
   "cell_type": "markdown",
   "id": "f7d0d779",
   "metadata": {},
   "source": [
    "### 1. Is logerror significantly different for properties in LA County vs Orange County vs Ventura County?\n",
    "\n"
   ]
  },
  {
   "cell_type": "markdown",
   "id": "d4ac20a5",
   "metadata": {},
   "source": [
    "$H_0$: Means of the logerror for the counties are all equal.\n",
    "\n",
    "$H_a$: Means of the logerror for the counties are NOT all equal."
   ]
  },
  {
   "cell_type": "code",
   "execution_count": 18,
   "id": "755436dd",
   "metadata": {},
   "outputs": [],
   "source": [
    "alpha = 0.5"
   ]
  },
  {
   "cell_type": "code",
   "execution_count": 32,
   "id": "a1c48741",
   "metadata": {},
   "outputs": [],
   "source": [
    "train, validate, test = wrangle.split_data(df)"
   ]
  },
  {
   "cell_type": "code",
   "execution_count": 33,
   "id": "c1f1fd9d",
   "metadata": {},
   "outputs": [],
   "source": [
    "f, p = stats.f_oneway(train[train.county == 'Los_Angeles'].logerror, train[train.county == 'Orange'].logerror, train[train.county == 'Ventura'].logerror)"
   ]
  },
  {
   "cell_type": "code",
   "execution_count": 48,
   "id": "f82a6f8d",
   "metadata": {},
   "outputs": [
    {
     "name": "stdout",
     "output_type": "stream",
     "text": [
      "We reject $H_{0}$\n"
     ]
    }
   ],
   "source": [
    "if p < alpha:\n",
    "    print(\"We reject $H_{0}$\")\n",
    "else:\n",
    "    print(\"We fail to reject $H_{0}$\")"
   ]
  },
  {
   "cell_type": "markdown",
   "id": "6572757f",
   "metadata": {},
   "source": [
    "### 2. Is logerror significantly different for older properties vs newer properties?\n",
    "\n"
   ]
  },
  {
   "cell_type": "markdown",
   "id": "60887566",
   "metadata": {},
   "source": [
    "$H_0$: Means of the logerror for older houses == newer houses.\n",
    "\n",
    "$H_a$: Means of the logerror for older houses != newer houses."
   ]
  },
  {
   "cell_type": "code",
   "execution_count": 45,
   "id": "2a9aec51",
   "metadata": {},
   "outputs": [
    {
     "name": "stdout",
     "output_type": "stream",
     "text": [
      "0.027859502341112872\n",
      "0.01565494341339703\n"
     ]
    }
   ],
   "source": [
    "print(train[train.yearbuilt < 1990].logerror.var())\n",
    "print(train[train.yearbuilt >= 1990].logerror.var())"
   ]
  },
  {
   "cell_type": "code",
   "execution_count": 46,
   "id": "a9f1108d",
   "metadata": {},
   "outputs": [],
   "source": [
    "f, p = stats.ttest_ind(train[train.yearbuilt < 1990].logerror, train[train.yearbuilt >= 1990].logerror, equal_var=False)"
   ]
  },
  {
   "cell_type": "code",
   "execution_count": 47,
   "id": "e878f689",
   "metadata": {},
   "outputs": [
    {
     "name": "stdout",
     "output_type": "stream",
     "text": [
      "We reject $H_{0}$\n"
     ]
    }
   ],
   "source": [
    "if p < alpha:\n",
    "    print(\"We reject $H_{0}$\")\n",
    "else:\n",
    "    print(\"We fail to reject $H_{0}$\")"
   ]
  },
  {
   "cell_type": "code",
   "execution_count": 77,
   "id": "13f64eaf",
   "metadata": {},
   "outputs": [],
   "source": [
    "bin_age = pd.qcut(train.yearbuilt,(0.25,0.5,0.75))\n"
   ]
  },
  {
   "cell_type": "code",
   "execution_count": null,
   "id": "77660479",
   "metadata": {},
   "outputs": [],
   "source": [
    "sns.relplot(x)"
   ]
  },
  {
   "cell_type": "markdown",
   "id": "e9a1dd46",
   "metadata": {},
   "source": [
    "### 3. Is logerror significantly different for properties with more than mean bedrooms vs under mean bedrooms?\n",
    "\n"
   ]
  },
  {
   "cell_type": "markdown",
   "id": "fb905db6",
   "metadata": {},
   "source": [
    "$H_0$: Means of the logerror for properties with > mean beds == properties with < mean beds.\n",
    "\n",
    "$H_a$: Means of the logerror for properties with > mean beds != properties with < mean beds."
   ]
  },
  {
   "cell_type": "code",
   "execution_count": 54,
   "id": "d5ce4c78",
   "metadata": {},
   "outputs": [
    {
     "name": "stdout",
     "output_type": "stream",
     "text": [
      "0.02593178530772894\n",
      "0.02636823851858377\n"
     ]
    }
   ],
   "source": [
    "print(train[train.bedroomcnt > train.bedroomcnt.mean()].logerror.var())\n",
    "print(train[train.bedroomcnt <= train.bedroomcnt.mean()].logerror.var())"
   ]
  },
  {
   "cell_type": "code",
   "execution_count": 55,
   "id": "bbeefb7c",
   "metadata": {},
   "outputs": [],
   "source": [
    "f, p = stats.ttest_ind(train[train.bedroomcnt > train.bedroomcnt.mean()].logerror, train[train.bedroomcnt <= train.bedroomcnt.mean()].logerror)"
   ]
  },
  {
   "cell_type": "code",
   "execution_count": 53,
   "id": "dce94bee",
   "metadata": {},
   "outputs": [
    {
     "name": "stdout",
     "output_type": "stream",
     "text": [
      "We reject $H_{0}$\n"
     ]
    }
   ],
   "source": [
    "if p < alpha:\n",
    "    print(\"We reject $H_{0}$\")\n",
    "else:\n",
    "    print(\"We fail to reject $H_{0}$\")"
   ]
  },
  {
   "cell_type": "code",
   "execution_count": 61,
   "id": "12b243d4",
   "metadata": {},
   "outputs": [
    {
     "data": {
      "text/plain": [
       "<AxesSubplot:ylabel='logerror'>"
      ]
     },
     "execution_count": 61,
     "metadata": {},
     "output_type": "execute_result"
    },
    {
     "data": {
      "image/png": "[encoded data removed]",
      "text/plain": [
       "<Figure size 432x288 with 1 Axes>"
      ]
     },
     "metadata": {
      "needs_background": "light"
     },
     "output_type": "display_data"
    }
   ],
   "source": [
    "sns.boxplot(y = train[train.bedroomcnt > train.bedroomcnt.mean()].logerror, data = train)\n",
    "sns.boxplot(y = train[train.bedroomcnt <= train.bedroomcnt.mean()].logerror, data = train)"
   ]
  },
  {
   "cell_type": "code",
   "execution_count": null,
   "id": "8d323bed",
   "metadata": {},
   "outputs": [],
   "source": []
  }
 ],
 "metadata": {
  "kernelspec": {
   "display_name": "Python 3",
   "language": "python",
   "name": "python3"
  },
  "language_info": {
   "codemirror_mode": {
    "name": "ipython",
    "version": 3
   },
   "file_extension": ".py",
   "mimetype": "text/x-python",
   "name": "python",
   "nbconvert_exporter": "python",
   "pygments_lexer": "ipython3",
   "version": "3.8.8"
  }
 },
 "nbformat": 4,
 "nbformat_minor": 5
}
